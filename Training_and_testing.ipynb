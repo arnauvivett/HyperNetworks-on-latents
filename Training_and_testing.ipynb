{
 "cells": [
  {
   "cell_type": "markdown",
   "metadata": {
    "vscode": {
     "languageId": "plaintext"
    }
   },
   "source": [
    "## Training"
   ]
  },
  {
   "cell_type": "code",
   "execution_count": null,
   "metadata": {},
   "outputs": [],
   "source": [
    "model.train()\n",
    "train_res_recon_error = []\n",
    "train_res_internal_error = []\n",
    "l2_lambda = 1e-3\n",
    "\n",
    "for i in tqdm(xrange(num_training_updates)):\n",
    "    (data,) = next(iter(training_loader))\n",
    "    data = data.to(device)\n",
    "    batch_size = data.size(0) \n",
    "    optimizer.zero_grad() \n",
    "\n",
    "    data_recon,internal_loss,test = model(data)\n",
    "    i_loss = internal_loss\n",
    "    data_test = data.view(batch_size * 20, 1, 64, 64)  \n",
    "    \n",
    "    recon_error = F.mse_loss(data_recon, data_test)/data_variance \n",
    "    l2_reg = sum(torch.sum(param ** 2) for param in model.parameters())\n",
    "    loss = recon_error + i_loss  + l2_lambda*l2_reg\n",
    "    loss.backward()\n",
    "    \n",
    "    optimizer.step() \n",
    "    \n",
    "    train_res_recon_error.append(recon_error.item()) \n",
    "    train_res_internal_error.append(i_loss)\n",
    "    if (i+1) % 50 == 0:\n",
    "        print('%d iterations' % (i+1))\n",
    "        print('recon_error: %.3f' % np.mean(train_res_recon_error[-100:]) )\n",
    "        print('internal_loss: %.3f' % np.mean(train_res_internal_error[-100:]) ) \n",
    "        print()\n",
    "        "
   ]
  },
  {
   "cell_type": "code",
   "execution_count": null,
   "metadata": {},
   "outputs": [],
   "source": [
    "\n",
    "train_res_recon_error_smooth = savgol_filter(train_res_recon_error, 201, 7)\n",
    "f = plt.figure(figsize=(16,4))\n",
    "ax = f.add_subplot(1,2,1)\n",
    "ax.plot(train_res_recon_error_smooth)\n",
    "ax.set_yscale('log')\n",
    "ax.set_title('Smoothed NMSE.')\n",
    "ax.set_xlabel('iteration')"
   ]
  },
  {
   "cell_type": "markdown",
   "metadata": {},
   "source": [
    "## Test"
   ]
  },
  {
   "cell_type": "code",
   "execution_count": null,
   "metadata": {},
   "outputs": [],
   "source": [
    "model.eval()\n",
    "\n",
    "train_res_recon_error = []\n",
    "\n",
    "with torch.no_grad():\n",
    "    overall_loss = 0\n",
    "    \n",
    "    for i in tqdm(xrange(10)):\n",
    "\n",
    "        (data,) = next(iter(validation_loader))\n",
    "        batch_size = data.size(0) \n",
    "        data = data.to(device)\n",
    "        \n",
    "        data_recon,internal_loss,test = model(data)\n",
    "        \n",
    "        data_test = data.view(batch_size * 20, 1, 64, 64)  \n",
    "        \n",
    "        recon_error = F.mse_loss(data_recon, data_test) / data_variance \n",
    "        l2_reg = sum(torch.sum(param ** 2) for param in model.parameters())\n",
    "        loss = recon_error + internal_loss + l2_lambda * l2_reg\n",
    "        overall_loss += recon_error.item()\n",
    "        \n",
    "        train_res_recon_error.append(recon_error.item()) \n",
    "        \n",
    "        if (i+1) % 10 == 0:\n",
    "            print('%d iterations' % (i+1))\n",
    "            print('recon_error: %.3f' % np.mean(train_res_recon_error[-100:]))\n",
    "            print()\n"
   ]
  },
  {
   "cell_type": "markdown",
   "metadata": {},
   "source": [
    "### Visualization"
   ]
  },
  {
   "cell_type": "code",
   "execution_count": null,
   "metadata": {},
   "outputs": [],
   "source": [
    "def show(img):\n",
    "    npimg = img.numpy()\n",
    "    plt.figure(figsize = (10,5))\n",
    "    fig = plt.imshow(np.transpose(npimg, (1,2,0)), interpolation='nearest')\n",
    "    fig.axes.get_xaxis().set_visible(False)\n",
    "    fig.axes.get_yaxis().set_visible(False)\n",
    "    plt.show()"
   ]
  },
  {
   "cell_type": "code",
   "execution_count": null,
   "metadata": {},
   "outputs": [],
   "source": [
    "grid_img = make_grid(data[5, :, :, :, :].cpu().data, nrow=10)\n",
    "show(grid_img)"
   ]
  },
  {
   "cell_type": "code",
   "execution_count": null,
   "metadata": {},
   "outputs": [],
   "source": [
    "grid_img = make_grid(output[5, :, :, :, :].cpu().data, nrow=10)\n",
    "show(grid_img)"
   ]
  }
 ],
 "metadata": {
  "language_info": {
   "name": "python"
  }
 },
 "nbformat": 4,
 "nbformat_minor": 2
}
